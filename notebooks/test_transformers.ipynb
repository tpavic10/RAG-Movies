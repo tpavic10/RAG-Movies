{
 "cells": [
  {
   "cell_type": "code",
   "execution_count": 5,
   "id": "b499d35f",
   "metadata": {},
   "outputs": [],
   "source": [
    "import joblib"
   ]
  },
  {
   "cell_type": "code",
   "execution_count": 1,
   "id": "b09446eb",
   "metadata": {},
   "outputs": [
    {
     "name": "stderr",
     "output_type": "stream",
     "text": [
      "/home/tpavic/code/RAG-Movies/.venv/lib/python3.12/site-packages/tqdm/auto.py:21: TqdmWarning: IProgress not found. Please update jupyter and ipywidgets. See https://ipywidgets.readthedocs.io/en/stable/user_install.html\n",
      "  from .autonotebook import tqdm as notebook_tqdm\n"
     ]
    }
   ],
   "source": [
    "from sentence_transformers import SentenceTransformer\n",
    "\n",
    "model = SentenceTransformer('all-mpnet-base-v2', device='cpu')\n"
   ]
  },
  {
   "cell_type": "code",
   "execution_count": 2,
   "id": "d2d94ebc",
   "metadata": {},
   "outputs": [],
   "source": [
    "sentences = [\"Spider-man movie fighting Green Goblin\", \"Titanic hits the iceberg.\", \"Spider-man was a friend with ironman against captain america.\"]\n",
    "embeddings = model.encode(sentences)"
   ]
  },
  {
   "cell_type": "code",
   "execution_count": 3,
   "id": "ee9c6c34",
   "metadata": {},
   "outputs": [
    {
     "name": "stdout",
     "output_type": "stream",
     "text": [
      "tensor([[1.0000, 0.1378, 0.4409],\n",
      "        [0.1378, 1.0000, 0.0788],\n",
      "        [0.4409, 0.0788, 1.0000]])\n"
     ]
    }
   ],
   "source": [
    "similarities = model.similarity(embeddings, embeddings)\n",
    "print(similarities)"
   ]
  },
  {
   "cell_type": "code",
   "execution_count": 7,
   "id": "3b9ff2d8",
   "metadata": {},
   "outputs": [
    {
     "data": {
      "text/plain": [
       "['embeddings.joblib']"
      ]
     },
     "execution_count": 7,
     "metadata": {},
     "output_type": "execute_result"
    }
   ],
   "source": [
    "joblib.dump(embeddings, 'embeddings.joblib')"
   ]
  },
  {
   "cell_type": "code",
   "execution_count": 6,
   "id": "0a7fbf5b",
   "metadata": {},
   "outputs": [
    {
     "name": "stdout",
     "output_type": "stream",
     "text": [
      "(2, 768)\n"
     ]
    }
   ],
   "source": [
    "loaded_embeddings = joblib.load('embeddings.joblib')\n",
    "\n",
    "print(loaded_embeddings.shape)  "
   ]
  },
  {
   "cell_type": "code",
   "execution_count": 8,
   "id": "2f5064e2",
   "metadata": {},
   "outputs": [
    {
     "data": {
      "text/plain": [
       "numpy.ndarray"
      ]
     },
     "execution_count": 8,
     "metadata": {},
     "output_type": "execute_result"
    }
   ],
   "source": [
    "type(loaded_embeddings)"
   ]
  },
  {
   "cell_type": "code",
   "execution_count": 9,
   "id": "a3261cff",
   "metadata": {},
   "outputs": [
    {
     "name": "stdout",
     "output_type": "stream",
     "text": [
      "tensor([[1.0000, 0.7652],\n",
      "        [0.7652, 1.0000]])\n"
     ]
    }
   ],
   "source": [
    "similarities = model.similarity(loaded_embeddings, loaded_embeddings)\n",
    "print(similarities)"
   ]
  },
  {
   "cell_type": "code",
   "execution_count": 4,
   "id": "be804a70",
   "metadata": {},
   "outputs": [
    {
     "data": {
      "text/plain": [
       "array([[ 0.02164115,  0.02159123,  0.00214396, ..., -0.06094076,\n",
       "        -0.00284813,  0.00483995],\n",
       "       [ 0.0027666 ,  0.01626474, -0.00406806, ..., -0.04357989,\n",
       "         0.04805489, -0.02605465]], shape=(2, 768), dtype=float32)"
      ]
     },
     "execution_count": 4,
     "metadata": {},
     "output_type": "execute_result"
    }
   ],
   "source": [
    "embeddings"
   ]
  },
  {
   "cell_type": "code",
   "execution_count": 2,
   "id": "1763fece",
   "metadata": {},
   "outputs": [
    {
     "data": {
      "text/plain": [
       "device(type='cuda', index=0)"
      ]
     },
     "execution_count": 2,
     "metadata": {},
     "output_type": "execute_result"
    }
   ],
   "source": [
    "model.device"
   ]
  },
  {
   "cell_type": "code",
   "execution_count": null,
   "id": "e6ad6c0d",
   "metadata": {},
   "outputs": [],
   "source": [
    "rrf_scores = {}\n",
    "\n",
    "for beta, ranked_list in zip(betas, ranked_lists):\n",
    "    for rank, doc_id in enumerate(ranked_list, start=1):  # ranks start at 1\n",
    "        rrf_scores[doc_id] = rrf_scores.get(doc_id, 0) + beta * (1 / (K + rank))\n",
    "\n",
    "# Sort by descending score\n",
    "sorted_items = sorted(rrf_scores, key=rrf_scores.get, reverse=True)\n",
    "\n",
    "return sorted_items[:top_k]"
   ]
  },
  {
   "cell_type": "code",
   "execution_count": 1,
   "id": "b1c49c3b",
   "metadata": {},
   "outputs": [
    {
     "ename": "NameError",
     "evalue": "name 'K' is not defined",
     "output_type": "error",
     "traceback": [
      "\u001b[31m---------------------------------------------------------------------------\u001b[39m",
      "\u001b[31mNameError\u001b[39m                                 Traceback (most recent call last)",
      "\u001b[36mCell\u001b[39m\u001b[36m \u001b[39m\u001b[32mIn[1]\u001b[39m\u001b[32m, line 11\u001b[39m\n\u001b[32m      9\u001b[39m             rrf_scores[item] = \u001b[32m0\u001b[39m\n\u001b[32m     10\u001b[39m         \u001b[38;5;66;03m# Update the RRF score for each document index using the formula 1 / (rank + K)\u001b[39;00m\n\u001b[32m---> \u001b[39m\u001b[32m11\u001b[39m         rrf_scores[item] += \u001b[32m1\u001b[39m / (\u001b[43mK\u001b[49m + rank)\n\u001b[32m     13\u001b[39m \u001b[38;5;66;03m# Sort the document indices based on their RRF scores in descending order\u001b[39;00m\n\u001b[32m     14\u001b[39m sorted_items = \u001b[38;5;28msorted\u001b[39m(rrf_scores, key=rrf_scores.get, reverse = \u001b[38;5;28;01mTrue\u001b[39;00m)\n",
      "\u001b[31mNameError\u001b[39m: name 'K' is not defined"
     ]
    }
   ],
   "source": [
    "rrf_scores = {}\n",
    "\n",
    "for lst in [[20, 10, 40], [40, 50, 20]]:\n",
    "    # Calculate the RRF score for each document index\n",
    "    for rank, item in enumerate(lst, start=1): # Start = 1 set the first element as 1 and not 0. \n",
    "                                                # This is a convention on how ranks work (the first element in ranking is denoted by 1 and not 0 as in lists)\n",
    "        # If the item is not in the dictionary, initialize its score to 0\n",
    "        if item not in rrf_scores:\n",
    "            rrf_scores[item] = 0\n",
    "        # Update the RRF score for each document index using the formula 1 / (rank + K)\n",
    "        rrf_scores[item] += 1 / (K + rank)\n",
    "\n",
    "# Sort the document indices based on their RRF scores in descending order\n",
    "sorted_items = sorted(rrf_scores, key=rrf_scores.get, reverse = True)\n",
    "\n",
    "# Slice the list to get the top-k document indices\n",
    "top_k_indices = [int(x) for x in sorted_items]\n",
    "\n",
    "### END CODE HERE ###\n",
    "\n",
    "return top_k_indices[:top_k]"
   ]
  }
 ],
 "metadata": {
  "kernelspec": {
   "display_name": "rag",
   "language": "python",
   "name": "python3"
  },
  "language_info": {
   "codemirror_mode": {
    "name": "ipython",
    "version": 3
   },
   "file_extension": ".py",
   "mimetype": "text/x-python",
   "name": "python",
   "nbconvert_exporter": "python",
   "pygments_lexer": "ipython3",
   "version": "3.12.9"
  }
 },
 "nbformat": 4,
 "nbformat_minor": 5
}
