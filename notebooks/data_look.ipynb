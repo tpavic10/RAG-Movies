{
 "cells": [
  {
   "cell_type": "code",
   "execution_count": 1,
   "id": "65599afe",
   "metadata": {},
   "outputs": [],
   "source": [
    "import polars as pl\n",
    "\n",
    "df = pl.read_csv('../data/raw_data/mymoviedb.csv')"
   ]
  },
  {
   "cell_type": "code",
   "execution_count": 5,
   "id": "7b46c5bb",
   "metadata": {},
   "outputs": [
    {
     "data": {
      "text/plain": [
       "(9827, 9)"
      ]
     },
     "execution_count": 5,
     "metadata": {},
     "output_type": "execute_result"
    }
   ],
   "source": [
    "df.shape"
   ]
  },
  {
   "cell_type": "code",
   "execution_count": 7,
   "id": "bec14c03",
   "metadata": {},
   "outputs": [
    {
     "data": {
      "text/html": [
       "<div><style>\n",
       ".dataframe > thead > tr,\n",
       ".dataframe > tbody > tr {\n",
       "  text-align: right;\n",
       "  white-space: pre-wrap;\n",
       "}\n",
       "</style>\n",
       "<small>shape: (1, 9)</small><table border=\"1\" class=\"dataframe\"><thead><tr><th>Release_Date</th><th>Title</th><th>Overview</th><th>Popularity</th><th>Vote_Count</th><th>Vote_Average</th><th>Original_Language</th><th>Genre</th><th>Poster_Url</th></tr><tr><td>str</td><td>str</td><td>str</td><td>f64</td><td>i64</td><td>f64</td><td>str</td><td>str</td><td>str</td></tr></thead><tbody><tr><td>&quot;2020-11-12&quot;</td><td>&quot;Xico&#x27;s Journey&quot;</td><td>&quot;The peace of a small town is e…</td><td>57.387</td><td>85</td><td>6.7</td><td>&quot;es&quot;</td><td>&quot;Animation, Family&quot;</td><td>&quot;https://image.tmdb.org/t/p/ori…</td></tr></tbody></table></div>"
      ],
      "text/plain": [
       "shape: (1, 9)\n",
       "┌───────────┬───────────┬───────────┬───────────┬───┬───────────┬───────────┬───────────┬──────────┐\n",
       "│ Release_D ┆ Title     ┆ Overview  ┆ Popularit ┆ … ┆ Vote_Aver ┆ Original_ ┆ Genre     ┆ Poster_U │\n",
       "│ ate       ┆ ---       ┆ ---       ┆ y         ┆   ┆ age       ┆ Language  ┆ ---       ┆ rl       │\n",
       "│ ---       ┆ str       ┆ str       ┆ ---       ┆   ┆ ---       ┆ ---       ┆ str       ┆ ---      │\n",
       "│ str       ┆           ┆           ┆ f64       ┆   ┆ f64       ┆ str       ┆           ┆ str      │\n",
       "╞═══════════╪═══════════╪═══════════╪═══════════╪═══╪═══════════╪═══════════╪═══════════╪══════════╡\n",
       "│ 2020-11-1 ┆ Xico's    ┆ The peace ┆ 57.387    ┆ … ┆ 6.7       ┆ es        ┆ Animation ┆ https:// │\n",
       "│ 2         ┆ Journey   ┆ of a      ┆           ┆   ┆           ┆           ┆ , Family  ┆ image.tm │\n",
       "│           ┆           ┆ small     ┆           ┆   ┆           ┆           ┆           ┆ db.org/t │\n",
       "│           ┆           ┆ town is   ┆           ┆   ┆           ┆           ┆           ┆ /p/ori…  │\n",
       "│           ┆           ┆ e…        ┆           ┆   ┆           ┆           ┆           ┆          │\n",
       "└───────────┴───────────┴───────────┴───────────┴───┴───────────┴───────────┴───────────┴──────────┘"
      ]
     },
     "execution_count": 7,
     "metadata": {},
     "output_type": "execute_result"
    }
   ],
   "source": [
    "df[1230]"
   ]
  },
  {
   "cell_type": "code",
   "execution_count": 6,
   "id": "1e1be158",
   "metadata": {},
   "outputs": [
    {
     "data": {
      "text/html": [
       "<div><style>\n",
       ".dataframe > thead > tr,\n",
       ".dataframe > tbody > tr {\n",
       "  text-align: right;\n",
       "  white-space: pre-wrap;\n",
       "}\n",
       "</style>\n",
       "<small>shape: (5, 9)</small><table border=\"1\" class=\"dataframe\"><thead><tr><th>Release_Date</th><th>Title</th><th>Overview</th><th>Popularity</th><th>Vote_Count</th><th>Vote_Average</th><th>Original_Language</th><th>Genre</th><th>Poster_Url</th></tr><tr><td>str</td><td>str</td><td>str</td><td>f64</td><td>i64</td><td>f64</td><td>str</td><td>str</td><td>str</td></tr></thead><tbody><tr><td>&quot;2021-12-15&quot;</td><td>&quot;Spider-Man: No Way Home&quot;</td><td>&quot;Peter Parker is unmasked and n…</td><td>5083.954</td><td>8940</td><td>8.3</td><td>&quot;en&quot;</td><td>&quot;Action, Adventure, Science Fic…</td><td>&quot;https://image.tmdb.org/t/p/ori…</td></tr><tr><td>&quot;2022-03-01&quot;</td><td>&quot;The Batman&quot;</td><td>&quot;In his second year of fighting…</td><td>3827.658</td><td>1151</td><td>8.1</td><td>&quot;en&quot;</td><td>&quot;Crime, Mystery, Thriller&quot;</td><td>&quot;https://image.tmdb.org/t/p/ori…</td></tr><tr><td>&quot;2022-02-25&quot;</td><td>&quot;No Exit&quot;</td><td>&quot;Stranded at a rest stop in the…</td><td>2618.087</td><td>122</td><td>6.3</td><td>&quot;en&quot;</td><td>&quot;Thriller&quot;</td><td>&quot;https://image.tmdb.org/t/p/ori…</td></tr><tr><td>&quot;2021-11-24&quot;</td><td>&quot;Encanto&quot;</td><td>&quot;The tale of an extraordinary f…</td><td>2402.201</td><td>5076</td><td>7.7</td><td>&quot;en&quot;</td><td>&quot;Animation, Comedy, Family, Fan…</td><td>&quot;https://image.tmdb.org/t/p/ori…</td></tr><tr><td>&quot;2021-12-22&quot;</td><td>&quot;The King&#x27;s Man&quot;</td><td>&quot;As a collection of history&#x27;s w…</td><td>1895.511</td><td>1793</td><td>7.0</td><td>&quot;en&quot;</td><td>&quot;Action, Adventure, Thriller, W…</td><td>&quot;https://image.tmdb.org/t/p/ori…</td></tr></tbody></table></div>"
      ],
      "text/plain": [
       "shape: (5, 9)\n",
       "┌───────────┬───────────┬───────────┬───────────┬───┬───────────┬───────────┬───────────┬──────────┐\n",
       "│ Release_D ┆ Title     ┆ Overview  ┆ Popularit ┆ … ┆ Vote_Aver ┆ Original_ ┆ Genre     ┆ Poster_U │\n",
       "│ ate       ┆ ---       ┆ ---       ┆ y         ┆   ┆ age       ┆ Language  ┆ ---       ┆ rl       │\n",
       "│ ---       ┆ str       ┆ str       ┆ ---       ┆   ┆ ---       ┆ ---       ┆ str       ┆ ---      │\n",
       "│ str       ┆           ┆           ┆ f64       ┆   ┆ f64       ┆ str       ┆           ┆ str      │\n",
       "╞═══════════╪═══════════╪═══════════╪═══════════╪═══╪═══════════╪═══════════╪═══════════╪══════════╡\n",
       "│ 2021-12-1 ┆ Spider-Ma ┆ Peter     ┆ 5083.954  ┆ … ┆ 8.3       ┆ en        ┆ Action,   ┆ https:// │\n",
       "│ 5         ┆ n: No Way ┆ Parker is ┆           ┆   ┆           ┆           ┆ Adventure ┆ image.tm │\n",
       "│           ┆ Home      ┆ unmasked  ┆           ┆   ┆           ┆           ┆ , Science ┆ db.org/t │\n",
       "│           ┆           ┆ and n…    ┆           ┆   ┆           ┆           ┆ Fic…      ┆ /p/ori…  │\n",
       "│ 2022-03-0 ┆ The       ┆ In his    ┆ 3827.658  ┆ … ┆ 8.1       ┆ en        ┆ Crime,    ┆ https:// │\n",
       "│ 1         ┆ Batman    ┆ second    ┆           ┆   ┆           ┆           ┆ Mystery,  ┆ image.tm │\n",
       "│           ┆           ┆ year of   ┆           ┆   ┆           ┆           ┆ Thriller  ┆ db.org/t │\n",
       "│           ┆           ┆ fighting… ┆           ┆   ┆           ┆           ┆           ┆ /p/ori…  │\n",
       "│ 2022-02-2 ┆ No Exit   ┆ Stranded  ┆ 2618.087  ┆ … ┆ 6.3       ┆ en        ┆ Thriller  ┆ https:// │\n",
       "│ 5         ┆           ┆ at a rest ┆           ┆   ┆           ┆           ┆           ┆ image.tm │\n",
       "│           ┆           ┆ stop in   ┆           ┆   ┆           ┆           ┆           ┆ db.org/t │\n",
       "│           ┆           ┆ the…      ┆           ┆   ┆           ┆           ┆           ┆ /p/ori…  │\n",
       "│ 2021-11-2 ┆ Encanto   ┆ The tale  ┆ 2402.201  ┆ … ┆ 7.7       ┆ en        ┆ Animation ┆ https:// │\n",
       "│ 4         ┆           ┆ of an ext ┆           ┆   ┆           ┆           ┆ , Comedy, ┆ image.tm │\n",
       "│           ┆           ┆ raordinar ┆           ┆   ┆           ┆           ┆ Family,   ┆ db.org/t │\n",
       "│           ┆           ┆ y f…      ┆           ┆   ┆           ┆           ┆ Fan…      ┆ /p/ori…  │\n",
       "│ 2021-12-2 ┆ The       ┆ As a coll ┆ 1895.511  ┆ … ┆ 7.0       ┆ en        ┆ Action,   ┆ https:// │\n",
       "│ 2         ┆ King's    ┆ ection of ┆           ┆   ┆           ┆           ┆ Adventure ┆ image.tm │\n",
       "│           ┆ Man       ┆ history's ┆           ┆   ┆           ┆           ┆ ,         ┆ db.org/t │\n",
       "│           ┆           ┆ w…        ┆           ┆   ┆           ┆           ┆ Thriller, ┆ /p/ori…  │\n",
       "│           ┆           ┆           ┆           ┆   ┆           ┆           ┆ W…        ┆          │\n",
       "└───────────┴───────────┴───────────┴───────────┴───┴───────────┴───────────┴───────────┴──────────┘"
      ]
     },
     "execution_count": 6,
     "metadata": {},
     "output_type": "execute_result"
    }
   ],
   "source": [
    "df.head(5)"
   ]
  },
  {
   "cell_type": "code",
   "execution_count": 7,
   "id": "39f647a3",
   "metadata": {},
   "outputs": [
    {
     "data": {
      "text/plain": [
       "'Peter Parker is unmasked and no longer able to separate his normal life from the high-stakes of being a super-hero. When he asks for help from Doctor Strange the stakes become even more dangerous, forcing him to discover what it truly means to be Spider-Man.'"
      ]
     },
     "execution_count": 7,
     "metadata": {},
     "output_type": "execute_result"
    }
   ],
   "source": [
    "df['Overview'][0]"
   ]
  }
 ],
 "metadata": {
  "kernelspec": {
   "display_name": "rag",
   "language": "python",
   "name": "python3"
  },
  "language_info": {
   "codemirror_mode": {
    "name": "ipython",
    "version": 3
   },
   "file_extension": ".py",
   "mimetype": "text/x-python",
   "name": "python",
   "nbconvert_exporter": "python",
   "pygments_lexer": "ipython3",
   "version": "3.12.9"
  }
 },
 "nbformat": 4,
 "nbformat_minor": 5
}
